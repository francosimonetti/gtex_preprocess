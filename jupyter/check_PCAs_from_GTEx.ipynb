{
 "cells": [
  {
   "cell_type": "code",
   "execution_count": 1,
   "id": "7e5ceda0",
   "metadata": {},
   "outputs": [],
   "source": [
    "import numpy as np\n",
    "import pandas as pd\n",
    "import os\n",
    "\n",
    "cov_file = \"/data/franco/datasets/gtex_v8/expression/GTEx_Analysis_v8_eQTL_covariates/Adipose_Subcutaneous.v8.covariates.txt\"\n",
    "\n",
    "df_cov = pd.read_table(cov_file, header=0, index_col=0)"
   ]
  },
  {
   "cell_type": "code",
   "execution_count": 6,
   "id": "e469bad6",
   "metadata": {},
   "outputs": [
    {
     "data": {
      "image/png": "[encoded data removed]",
      "text/plain": [
       "<Figure size 432x288 with 1 Axes>"
      ]
     },
     "metadata": {
      "needs_background": "light"
     },
     "output_type": "display_data"
    }
   ],
   "source": [
    "import matplotlib.pyplot as plt\n",
    "\n",
    "plt.scatter(df_cov.loc[\"PC1\"], df_cov.loc[\"PC2\"])\n",
    "plt.show()\n",
    "\n",
    "## Absolutely likely these are genotype PCs :D"
   ]
  },
  {
   "cell_type": "code",
   "execution_count": 8,
   "id": "c84673f3",
   "metadata": {},
   "outputs": [],
   "source": [
    "cov_file = \"/data/franco/datasets/gtex_v8/expression/GTEx_Analysis_v8_eQTL_covariates/Cells_EBV-transformed_lymphocytes.v8.covariates.txt\"\n",
    "df_cov2 = pd.read_table(cov_file, header=0, index_col=0)\n",
    "\n",
    "common_samples = set.intersection(set(df_cov2.columns), set(df_cov.columns))"
   ]
  },
  {
   "cell_type": "code",
   "execution_count": 11,
   "id": "5bc87743",
   "metadata": {
    "scrolled": true
   },
   "outputs": [
    {
     "data": {
      "text/plain": [
       "GTEX-XUYS     True\n",
       "GTEX-1EU9M    True\n",
       "GTEX-ZDTS     True\n",
       "GTEX-Y5V6     True\n",
       "GTEX-Y114     True\n",
       "              ... \n",
       "GTEX-11EM3    True\n",
       "GTEX-ZTX8     True\n",
       "GTEX-ZVZP     True\n",
       "GTEX-SSA3     True\n",
       "GTEX-U3ZN     True\n",
       "Name: PC1, Length: 113, dtype: bool"
      ]
     },
     "execution_count": 11,
     "metadata": {},
     "output_type": "execute_result"
    }
   ],
   "source": [
    "# Sample PCs in different covariate files for different tissues are the same. Good\n",
    "df_cov2[common_samples].loc[\"PC1\"] == df_cov[common_samples].loc[\"PC1\"]"
   ]
  },
  {
   "cell_type": "code",
   "execution_count": null,
   "id": "91ae8dff",
   "metadata": {},
   "outputs": [],
   "source": []
  }
 ],
 "metadata": {
  "kernelspec": {
   "display_name": "Python 3",
   "language": "python",
   "name": "python3"
  },
  "language_info": {
   "codemirror_mode": {
    "name": "ipython",
    "version": 3
   },
   "file_extension": ".py",
   "mimetype": "text/x-python",
   "name": "python",
   "nbconvert_exporter": "python",
   "pygments_lexer": "ipython3",
   "version": "3.9.0"
  }
 },
 "nbformat": 4,
 "nbformat_minor": 5
}
